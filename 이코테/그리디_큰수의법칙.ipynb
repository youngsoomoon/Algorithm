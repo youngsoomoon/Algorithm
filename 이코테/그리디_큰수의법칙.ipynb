{
 "cells": [
  {
   "cell_type": "code",
   "execution_count": 1,
   "metadata": {},
   "outputs": [
    {
     "name": "stdout",
     "output_type": "stream",
     "text": [
      "5 8 3\n",
      "2 4 5 4 6\n",
      "46\n"
     ]
    }
   ],
   "source": [
    "N, M, K = map(int, input().split())\n",
    "array = list(map(int, input().split()))\n",
    "\n",
    "array.sort()\n",
    "a = array[N-1]\n",
    "b = array[N-2]\n",
    "result = 0\n",
    "\n",
    "while True:\n",
    "  for i in range(K):\n",
    "    if M == 0 :\n",
    "      break\n",
    "    else :\n",
    "      result += a\n",
    "      M -= 1\n",
    "  if M == 0:\n",
    "    break\n",
    "  result += b\n",
    "  M -= 1\n",
    "print(result)"
   ]
  }
 ],
 "metadata": {
  "kernelspec": {
   "display_name": "Python 3",
   "language": "python",
   "name": "python3"
  },
  "language_info": {
   "codemirror_mode": {
    "name": "ipython",
    "version": 3
   },
   "file_extension": ".py",
   "mimetype": "text/x-python",
   "name": "python",
   "nbconvert_exporter": "python",
   "pygments_lexer": "ipython3",
   "version": "3.7.3"
  }
 },
 "nbformat": 4,
 "nbformat_minor": 2
}
