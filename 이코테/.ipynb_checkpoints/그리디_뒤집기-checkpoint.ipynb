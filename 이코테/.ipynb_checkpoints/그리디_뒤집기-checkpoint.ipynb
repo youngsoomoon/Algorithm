{
 "cells": [
  {
   "cell_type": "markdown",
   "metadata": {},
   "source": [
    "* **아이디어**\n",
    "\n",
    "  가장 첫번째 문자로 경우의수 1 추가<br>\n",
    "  그 다음 문자가 다를때만 반복문 실행하고, 0이 뒤집히는지 1이 뒤집히는지 분류후 증가<br>\n",
    "  두가지 값중 최소값 출력할때 min()함수 사용"
   ]
  },
  {
   "cell_type": "code",
   "execution_count": 27,
   "metadata": {},
   "outputs": [
    {
     "name": "stdin",
     "output_type": "stream",
     "text": [
      " 0001100\n"
     ]
    },
    {
     "name": "stdout",
     "output_type": "stream",
     "text": [
      "1\n"
     ]
    }
   ],
   "source": [
    "data = input()\n",
    "count0 = 0\n",
    "count1 = 0\n",
    "\n",
    "if data[0] == '1':\n",
    "    count0 += 1\n",
    "else :\n",
    "    count1 += 1\n",
    "    \n",
    "for i in range(len(data)-1):\n",
    "    if data[i] != data[i+1]:\n",
    "        if data[i+1] == '1':\n",
    "            count0 += 1\n",
    "        else:\n",
    "            count1 += 1\n",
    "            \n",
    "print(min(count0, count1))"
   ]
  },
  {
   "cell_type": "code",
   "execution_count": null,
   "metadata": {},
   "outputs": [],
   "source": []
  }
 ],
 "metadata": {
  "kernelspec": {
   "display_name": "Python 3",
   "language": "python",
   "name": "python3"
  },
  "language_info": {
   "codemirror_mode": {
    "name": "ipython",
    "version": 3
   },
   "file_extension": ".py",
   "mimetype": "text/x-python",
   "name": "python",
   "nbconvert_exporter": "python",
   "pygments_lexer": "ipython3",
   "version": "3.8.5"
  }
 },
 "nbformat": 4,
 "nbformat_minor": 4
}
