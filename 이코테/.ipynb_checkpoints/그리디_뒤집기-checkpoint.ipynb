{
 "cells": [
  {
   "cell_type": "markdown",
   "metadata": {},
   "source": [
    "* **아이디어**\n",
    "\n",
    "  가장 첫번째 문자로 경우의수 1 추가<br>\n",
    "  그 다음 문자가 다를때만 반복문 실행하고, 0이 뒤집히는지 1이 뒤집히는지 분류후 증가<br>\n",
    "  두가지 값중 최소값 출력할때 min()함수 사용"
   ]
  },
  {
   "cell_type": "code",
   "execution_count": 27,
   "metadata": {},
   "outputs": [
    {
     "name": "stdin",
     "output_type": "stream",
     "text": [
      " 0001100\n"
     ]
    },
    {
     "name": "stdout",
     "output_type": "stream",
     "text": [
      "1\n"
     ]
    }
   ],
   "source": [
    "data = input()\n",
    "count0 = 0\n",
    "count1 = 0\n",
    "\n",
    "if data[0] == '1':\n",
    "    count0 += 1\n",
    "else :\n",
    "    count1 += 1\n",
    "    \n",
    "for i in range(len(data)-1):\n",
    "    if data[i] != data[i+1]:\n",
    "        if data[i+1] == '1':\n",
    "            count0 += 1\n",
    "        else:\n",
    "            count1 += 1\n",
    "            \n",
    "print(min(count0, count1))"
   ]
  },
  {
   "cell_type": "markdown",
   "metadata": {},
   "source": [
    "----------------------------------------\n",
    "2번째 풀이"
   ]
  },
  {
   "cell_type": "code",
   "execution_count": 11,
   "metadata": {},
   "outputs": [
    {
     "name": "stdin",
     "output_type": "stream",
     "text": [
      " 0001100\n"
     ]
    },
    {
     "name": "stdout",
     "output_type": "stream",
     "text": [
      "1\n"
     ]
    }
   ],
   "source": [
    "data = input()\n",
    "\n",
    "count0 = 0\n",
    "count1 = 0\n",
    "if data[0] == '0':\n",
    "    count0 += 1\n",
    "else :\n",
    "    count1 += 1\n",
    "    \n",
    "for i in range(len(data)-1):\n",
    "    if data[i] != data[i+1]:\n",
    "        if data[i+1] == '0' :\n",
    "            count0 += 1\n",
    "        else :\n",
    "            count1 += 1\n",
    "\n",
    "print(min(count0,count1))"
   ]
  },
  {
   "cell_type": "markdown",
   "metadata": {},
   "source": [
    "--------------"
   ]
  },
  {
   "cell_type": "markdown",
   "metadata": {},
   "source": [
    "3번째 풀이"
   ]
  },
  {
   "cell_type": "code",
   "execution_count": 18,
   "metadata": {},
   "outputs": [
    {
     "name": "stdin",
     "output_type": "stream",
     "text": [
      " 0011100\n"
     ]
    },
    {
     "name": "stdout",
     "output_type": "stream",
     "text": [
      "2  1\n"
     ]
    }
   ],
   "source": [
    "S = input()\n",
    "\n",
    "count0 = 0 # 0을 뒤집는 경우\n",
    "count1 = 0 # 1을 뒤집는 경우\n",
    "\n",
    "# 첫번째 원소에 대해서 처리\n",
    "if S[0] == '0':\n",
    "    count0 += 1\n",
    "if S[0] == '1':\n",
    "    count1 += 1\n",
    "\n",
    "# 첫 번째 원소를 기준으로 다음 원소와 다를때마다 경우의수 추가\n",
    "for i in range(len(S)-1):\n",
    "    if S[i] != S[i+1] :\n",
    "        if S[i+1] == '1' : #다음 원소가 1일경우 0을 뒤집는 경우의 수 추가\n",
    "            count0 += 1\n",
    "        else : # 다음 원소가 0일경우 1을 뒤집는 경우의 수 추가\n",
    "            count1 += 1\n",
    "\n",
    "print(count0,'', count1)"
   ]
  },
  {
   "cell_type": "code",
   "execution_count": null,
   "metadata": {},
   "outputs": [],
   "source": []
  }
 ],
 "metadata": {
  "kernelspec": {
   "display_name": "Python 3",
   "language": "python",
   "name": "python3"
  },
  "language_info": {
   "codemirror_mode": {
    "name": "ipython",
    "version": 3
   },
   "file_extension": ".py",
   "mimetype": "text/x-python",
   "name": "python",
   "nbconvert_exporter": "python",
   "pygments_lexer": "ipython3",
   "version": "3.7.3"
  }
 },
 "nbformat": 4,
 "nbformat_minor": 4
}
