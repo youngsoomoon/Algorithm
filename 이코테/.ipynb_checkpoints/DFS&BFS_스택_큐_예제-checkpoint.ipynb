{
 "cells": [
  {
   "cell_type": "code",
   "execution_count": 1,
   "id": "caa15b12-caca-4c17-8ad3-cedae6d55179",
   "metadata": {},
   "outputs": [
    {
     "name": "stdout",
     "output_type": "stream",
     "text": [
      "[5, 2, 3, 1]\n",
      "[1, 3, 2, 5]\n"
     ]
    }
   ],
   "source": [
    "stack = []\n",
    "\n",
    "# 삽입(5) - 삽입(2) - 삽입(3) - 삽입(7) - 삭제() - 삽입(1) - 삽입(4) - 삭제()\n",
    "stack.append(5)\n",
    "stack.append(2)\n",
    "stack.append(3)\n",
    "stack.append(7)\n",
    "stack.pop()\n",
    "stack.append(1)\n",
    "stack.append(4)\n",
    "stack.pop()\n",
    "\n",
    "print(stack) # 최하단 원소부터 출력\n",
    "print(stack[::-1]) # 최상단 원소부터 출력"
   ]
  },
  {
   "cell_type": "code",
   "execution_count": 3,
   "id": "f19a349b-5767-41f7-925d-e89fbae588d3",
   "metadata": {},
   "outputs": [
    {
     "name": "stdout",
     "output_type": "stream",
     "text": [
      "deque([3, 7, 1, 4])\n",
      "deque([4, 1, 7, 3])\n"
     ]
    }
   ],
   "source": [
    "from collections import deque \n",
    "\n",
    "# 큐(Queue) 구현을 위해 deque 라이브러리 사용\n",
    "queue = deque()\n",
    "\n",
    "# 삽입(5) - 삽입(2) - 삽입(3) - 삽입(7) - 삭제() - 삽입(1) - 삽입(4) - 삭제()\n",
    "queue.append(5)\n",
    "queue.append(2)\n",
    "queue.append(3)\n",
    "queue.append(7)\n",
    "queue.popleft()\n",
    "queue.append(1)\n",
    "queue.append(4)\n",
    "queue.popleft()\n",
    "\n",
    "print(queue) # 먼저 들어온 순서대로 출력\n",
    "queue.reverse() # 다음 출력을 위해 역순으로 바꾸기\n",
    "print(queue) # 나중에 들어온 원소부터 출력"
   ]
  },
  {
   "cell_type": "code",
   "execution_count": null,
   "id": "50d042e5-61a3-4c20-8fbf-ea844a817dfb",
   "metadata": {},
   "outputs": [],
   "source": []
  }
 ],
 "metadata": {
  "kernelspec": {
   "display_name": "Python 3",
   "language": "python",
   "name": "python3"
  },
  "language_info": {
   "codemirror_mode": {
    "name": "ipython",
    "version": 3
   },
   "file_extension": ".py",
   "mimetype": "text/x-python",
   "name": "python",
   "nbconvert_exporter": "python",
   "pygments_lexer": "ipython3",
   "version": "3.8.10"
  }
 },
 "nbformat": 4,
 "nbformat_minor": 5
}
