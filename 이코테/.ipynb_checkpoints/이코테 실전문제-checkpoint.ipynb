{
 "cells": [
  {
   "cell_type": "markdown",
   "metadata": {},
   "source": [
    "# CH3_2_큰 수의 법칙"
   ]
  },
  {
   "cell_type": "code",
   "execution_count": null,
   "metadata": {},
   "outputs": [],
   "source": [
    "N, M, K = map(int, input().split())\n",
    "array = list(map(int, input().split()))"
   ]
  },
  {
   "cell_type": "code",
   "execution_count": null,
   "metadata": {},
   "outputs": [],
   "source": [
    "array.sort()\n",
    "a = array[N-1]\n",
    "b = array[N-2]\n",
    "result = 0"
   ]
  },
  {
   "cell_type": "code",
   "execution_count": null,
   "metadata": {},
   "outputs": [],
   "source": [
    "while True:\n",
    "  for i in range(K):\n",
    "    if M == 0 :\n",
    "      break\n",
    "    else :\n",
    "      result += a\n",
    "      M -= 1\n",
    "  if M == 0:\n",
    "    break\n",
    "  result += b\n",
    "  M -= 1\n",
    "print(result)"
   ]
  },
  {
   "cell_type": "markdown",
   "metadata": {},
   "source": [
    "----------------------------------------------"
   ]
  },
  {
   "cell_type": "markdown",
   "metadata": {},
   "source": [
    "# CH3_3_숫자 카드 게임"
   ]
  },
  {
   "cell_type": "markdown",
   "metadata": {},
   "source": [
    "## 내가 푼 답"
   ]
  },
  {
   "cell_type": "code",
   "execution_count": 5,
   "metadata": {
    "scrolled": true
   },
   "outputs": [
    {
     "name": "stdout",
     "output_type": "stream",
     "text": [
      "2 4\n",
      "7 3 1 8\n",
      "3 3 3 4\n",
      "3\n"
     ]
    }
   ],
   "source": [
    "n,m = map(int,input().split())\n",
    "\n",
    "for i in range(n):\n",
    "    a = input().split()\n",
    "    a = min(a)\n",
    "    if i == 0:\n",
    "        result = a\n",
    "    if result <= a:\n",
    "        result = a\n",
    "print(result)"
   ]
  },
  {
   "cell_type": "markdown",
   "metadata": {},
   "source": [
    "## 정답"
   ]
  },
  {
   "cell_type": "code",
   "execution_count": null,
   "metadata": {},
   "outputs": [],
   "source": [
    "# N, M을 공백을 기준으로 구분하여 입력 받기\n",
    "n, m = map(int, input().split())\n",
    "\n",
    "result = 0\n",
    "# 한 줄씩 입력 받아 확인하기\n",
    "for i in range(n):\n",
    "    data = list(map(int, input().split()))\n",
    "    # 현재 줄에서 '가장 작은 수' 찾기\n",
    "    min_value = min(data)\n",
    "    # '가장 작은 수'들 중에서 가장 큰 수 찾기\n",
    "    result = max(result, min_value)\n",
    "\n",
    "print(result) # 최종 답안 출력"
   ]
  },
  {
   "cell_type": "markdown",
   "metadata": {},
   "source": [
    "----------------------------------------------"
   ]
  },
  {
   "cell_type": "markdown",
   "metadata": {},
   "source": [
    "# CH3_4_1이 될때까지"
   ]
  },
  {
   "cell_type": "code",
   "execution_count": 8,
   "metadata": {},
   "outputs": [
    {
     "name": "stdout",
     "output_type": "stream",
     "text": [
      "25 5\n",
      "2\n"
     ]
    }
   ],
   "source": [
    "n,k = map(int,input().split())\n",
    "r = 0\n",
    "\n",
    "while n != 1:\n",
    "    if (n % k) == 0:\n",
    "        n /= k\n",
    "    else :\n",
    "        n -= 1 \n",
    "    r += 1\n",
    "print(r)"
   ]
  },
  {
   "cell_type": "markdown",
   "metadata": {},
   "source": [
    "----------------"
   ]
  },
  {
   "cell_type": "markdown",
   "metadata": {},
   "source": [
    "# CH4_1_상하좌우"
   ]
  },
  {
   "cell_type": "code",
   "execution_count": 33,
   "metadata": {},
   "outputs": [
    {
     "name": "stdout",
     "output_type": "stream",
     "text": [
      "5\n",
      "R R R U D D\n",
      "['R', 'R', 'R', 'U', 'D', 'D']\n",
      "3 4\n"
     ]
    }
   ],
   "source": [
    "n = int(input())\n",
    "\n",
    "x = 1\n",
    "y = 1\n",
    "\n",
    "R = input().split()\n",
    "print(R)\n",
    "for i in R:\n",
    "    if i == 'L':\n",
    "        if ((y > 1) & (y <= n)):\n",
    "            y -= 1\n",
    "    if i == 'R':\n",
    "        if (y < n):\n",
    "            y += 1\n",
    "    if i == 'U':\n",
    "        if (x > 1):\n",
    "            x -= 1\n",
    "    if i == 'D':\n",
    "        if ( (x >= 1) &(x <= n)):\n",
    "            x += 1\n",
    "print(x, y)\n"
   ]
  },
  {
   "cell_type": "markdown",
   "metadata": {},
   "source": [
    "# CH4_2_시각"
   ]
  },
  {
   "cell_type": "code",
   "execution_count": 40,
   "metadata": {},
   "outputs": [
    {
     "name": "stdout",
     "output_type": "stream",
     "text": [
      "5\n",
      "11475\n"
     ]
    }
   ],
   "source": [
    "n = int(input())\n",
    "count = 0\n",
    "\n",
    "\n",
    "for h in range(0,n+1,1):\n",
    "    for m in range(60):\n",
    "        for s in range(60):\n",
    "            if '3' in str(h) + str(m) + str(s):\n",
    "                count += 1\n",
    "print(count)"
   ]
  },
  {
   "cell_type": "markdown",
   "metadata": {},
   "source": [
    "# CH4_3_왕실의 나이트"
   ]
  },
  {
   "cell_type": "markdown",
   "metadata": {},
   "source": [
    "* 아이디어 \n",
    "\n",
    "\n",
    "  입력받은 문자를 ord()를 이용하여 아스키코드로 변환 "
   ]
  },
  {
   "cell_type": "code",
   "execution_count": 19,
   "metadata": {
    "scrolled": true
   },
   "outputs": [
    {
     "name": "stdout",
     "output_type": "stream",
     "text": [
      "a1\n",
      "2\n"
     ]
    }
   ],
   "source": [
    "co= input()\n",
    "\n",
    "row = int(co[1])\n",
    "col = int(ord(co[0]) - ord('a')) + 1\n",
    "\n",
    "steps = [(-2,-1),(-2,1),(1,2),(-1,2),(2,-1),(2,1),(1,-2),(-1,-2)]\n",
    "\n",
    "result = 0\n",
    "\n",
    "for step in steps:\n",
    "    next_row = row + step[0]\n",
    "    next_col = col + step[1]\n",
    "    if next_row >= 1 & next_row <= 8 & next_col >= 1 & next_col <= 8 :\n",
    "        result += 1\n",
    "        \n",
    "print(result)\n"
   ]
  },
  {
   "cell_type": "markdown",
   "metadata": {},
   "source": [
    "# CH5_3_음료수 얼려 먹기"
   ]
  },
  {
   "cell_type": "markdown",
   "metadata": {},
   "source": [
    "* DFS / BFS 로 해결 가능"
   ]
  },
  {
   "cell_type": "code",
   "execution_count": null,
   "metadata": {},
   "outputs": [],
   "source": [
    "n,m = map(int, input().split())\n",
    "\n",
    "graph = []\n",
    "for i in range(n):\n",
    "    graph.append(list(map(int,input().split())))\n",
    "\n",
    "def dfs(x, y):\n",
    "    if x <= -1 | x >= n | y <= -1 | y >= m:\n",
    "        return False\n",
    "    if graph[x][y] == 0 :\n",
    "        graph[x][y] = 1\n",
    "        dfs(x - 1, y)\n",
    "        dfs(x, y - 1)\n",
    "        dfs(x + 1, y)\n",
    "        dfs(x, y + 1)\n",
    "        return True\n",
    "    return False\n",
    "\n",
    "result = 0 \n",
    "for i in range(n):\n",
    "    fofr j in range(n):\n",
    "        if dfs(i , j) == True:\n",
    "            result += 1\n",
    "            \n",
    "print(result)"
   ]
  },
  {
   "cell_type": "markdown",
   "metadata": {},
   "source": [
    "# CH5_4_미로 탈출"
   ]
  },
  {
   "cell_type": "code",
   "execution_count": 2,
   "metadata": {},
   "outputs": [
    {
     "name": "stdin",
     "output_type": "stream",
     "text": [
      " 5 6\n",
      " 101010\n",
      " 111111\n",
      " 000001\n",
      " 111111\n",
      " 111111\n"
     ]
    },
    {
     "name": "stdout",
     "output_type": "stream",
     "text": [
      "2\n"
     ]
    }
   ],
   "source": [
    "from collections import deque\n",
    "\n",
    "n,m = map(int, input().split())\n",
    "graph = []\n",
    "for i in range(n):\n",
    "    graph.append(list(map(int,input())))\n",
    "\n",
    "# 이동할 네 방향 정의(상, 하, 좌, 우)    \n",
    "dx = [-1, 1, 0, 0]\n",
    "dy = [0, 0, -1, 1]\n",
    "\n",
    "# BFS 소스코드 구현\n",
    "def bfs(x, y):\n",
    "    queue = deque()\n",
    "    queue.append((x, y))\n",
    "    # 큐가 빌 때까지 반복\n",
    "    while queue:\n",
    "        x, y = queue.popleft()\n",
    "        # 현재 위치에서 네 방향으로의 위치확인\n",
    "        for i in range(4):\n",
    "            nx = x + dx[i]\n",
    "            ny = y + dy[i]\n",
    "            # 미로 찾기 공간을 벗어난 경우 무시\n",
    "            if nx < 0 or ny < 0 or nx >= n or ny >= m:\n",
    "                continue\n",
    "            # 벽인 경우 무시\n",
    "            if graph[nx][ny] == 0:\n",
    "                continue\n",
    "            # 해당 노드를 처음 방문하는 경우에만 최단 거리 기록\n",
    "            if graph[nx][ny] == 1:\n",
    "                graph[nx][ny] = graph[nx][ny] + 1\n",
    "                queue.append((nx,ny))\n",
    "    return graph[n - 1][m -1 ]\n",
    "print(bfs(0,0))\n",
    "                "
   ]
  },
  {
   "cell_type": "markdown",
   "metadata": {},
   "source": [
    "# CH6_2_위에서 아래로"
   ]
  },
  {
   "cell_type": "code",
   "execution_count": 4,
   "metadata": {},
   "outputs": [
    {
     "name": "stdin",
     "output_type": "stream",
     "text": [
      " 3\n",
      " 27\n",
      " 15\n",
      " 12\n"
     ]
    },
    {
     "name": "stdout",
     "output_type": "stream",
     "text": [
      "[12, 15, 27]\n",
      "[27, 15, 12]\n"
     ]
    }
   ],
   "source": [
    "n = int(input())\n",
    "\n",
    "array = []\n",
    "for i in range(n):\n",
    "    array.append(int(input()))\n",
    "array.sort()\n",
    "print(array)\n",
    "print(sorted(array,reverse = True))"
   ]
  },
  {
   "cell_type": "markdown",
   "metadata": {},
   "source": [
    "# CH6_3_성적이 낮은 순서로 학생 출력하기"
   ]
  },
  {
   "cell_type": "code",
   "execution_count": 5,
   "metadata": {},
   "outputs": [
    {
     "name": "stdin",
     "output_type": "stream",
     "text": [
      " 2\n",
      " 홍길동 95\n",
      " 이순신 77\n"
     ]
    },
    {
     "name": "stdout",
     "output_type": "stream",
     "text": [
      "이순신 홍길동 "
     ]
    }
   ],
   "source": [
    "num = int(input())\n",
    "\n",
    "array = []\n",
    "\n",
    "for i in range(num):\n",
    "    input_data = input().split()\n",
    "    array.append((input_data[0],input_data[1]))\n",
    "    \n",
    "array = sorted(array, key = lambda x:x[1])\n",
    "\n",
    "for name in array:\n",
    "    print(name[0], end=' ')"
   ]
  },
  {
   "cell_type": "markdown",
   "metadata": {},
   "source": [
    "# CH6_4_두 배열의 원소 교체"
   ]
  },
  {
   "cell_type": "markdown",
   "metadata": {},
   "source": [
    "* 아이디어\n",
    "\n",
    "\n",
    "    1. A는 오름차순, B는 내림차순으로 정렬하여 크기에 따라 원소교체\n",
    "    2. a, b = b, a 이용하여 한줄에 원소교체"
   ]
  },
  {
   "cell_type": "code",
   "execution_count": 7,
   "metadata": {},
   "outputs": [
    {
     "name": "stdin",
     "output_type": "stream",
     "text": [
      " 5 3\n",
      " 1 2 5 4 3\n",
      " 5 5 6 6 5\n"
     ]
    },
    {
     "name": "stdout",
     "output_type": "stream",
     "text": [
      "26\n"
     ]
    }
   ],
   "source": [
    "n, k = map(int,input().split())\n",
    "\n",
    "a = list(map(int,input().split()))\n",
    "b = list(map(int,input().split()))\n",
    "\n",
    "a.sort()\n",
    "b.sort(reverse=True)\n",
    "\n",
    "for i in range(k):\n",
    "    if a[i] < b[i]:\n",
    "        a[i], b[i] = b[i], a[i]\n",
    "    else :\n",
    "        break\n",
    "\n",
    "# r = 0\n",
    "# for i in a:\n",
    "#     r += i\n",
    "# print(r)\n",
    "# 위의 함수로 리스트의 요소를 더하는 것 대신 sum()함수 이용\n",
    "print(sum(a))"
   ]
  },
  {
   "cell_type": "markdown",
   "metadata": {},
   "source": [
    "# CH7_2_부품 찾기\n",
    "\n",
    "\n",
    "  * 아이디어\n",
    "    1. 이진탐색 알고리즘은 사전 학습없이 직접 구현하기에는 어려움이있으니 암기해서 사용\n",
    "    2. 반복문을 이용한 이진탐색 외에 재귀함수 이용한 이진탐색도 있음"
   ]
  },
  {
   "cell_type": "code",
   "execution_count": 12,
   "metadata": {},
   "outputs": [
    {
     "name": "stdin",
     "output_type": "stream",
     "text": [
      " 5\n",
      " 8 3 7 9 2\n",
      " 3\n",
      " 5 7 9\n"
     ]
    },
    {
     "name": "stdout",
     "output_type": "stream",
     "text": [
      "no yes yes "
     ]
    }
   ],
   "source": [
    "n = int(input())\n",
    "a = list(map(int,input().split()))\n",
    "m = int(input())\n",
    "b = list(map(int,input().split()))\n",
    "\n",
    "#이진 탐색을위하여 정렬\n",
    "a.sort()\n",
    "\n",
    "# 이진 탐색 소스코드 구현(반복문)\n",
    "def binary_search(array, target, start, end):\n",
    "    # 시작점이 끝점보다 작거나 같을때에만 반복\n",
    "    while start <= end:\n",
    "        # 중간지점은 소수점 제외한 부분\n",
    "        mid = (start + end) // 2\n",
    "        if array[mid] == target:\n",
    "            return mid\n",
    "        elif array[mid] > target:\n",
    "            end = mid - 1\n",
    "        else :\n",
    "            start = mid + 1\n",
    "    return None\n",
    "\n",
    "for i in b :\n",
    "    if binary_search(a, i, 0, n-1) == None :\n",
    "        print('no', end=' ')\n",
    "    else :\n",
    "        print('yes', end=' ')\n",
    "    "
   ]
  },
  {
   "cell_type": "markdown",
   "metadata": {},
   "source": [
    "# CH7_3_떡볶이 떡 만들기\n",
    "\n",
    "\n",
    "  * 아이디어\n",
    "    1. "
   ]
  },
  {
   "cell_type": "code",
   "execution_count": 2,
   "metadata": {},
   "outputs": [
    {
     "name": "stdin",
     "output_type": "stream",
     "text": [
      " 4 6\n",
      " 19 15 10 17\n"
     ]
    },
    {
     "name": "stdout",
     "output_type": "stream",
     "text": [
      "15\n"
     ]
    }
   ],
   "source": [
    "n, m = map(int,input().split())\n",
    "a = list(map(int,input().split()))\n",
    "\n",
    "# 이진 탐색을 위한 시작점과 끝점 설정\n",
    "start = 0\n",
    "end = max(a)\n",
    "\n",
    "result = 0\n",
    "while (start <= end):\n",
    "    total = 0\n",
    "    mid = (start + end) // 2\n",
    "    for x in a:\n",
    "        if x > mid:\n",
    "            total += x - mid\n",
    "    if total < m:\n",
    "        end = mid - 1\n",
    "    else :\n",
    "        result = mid\n",
    "        start = mid + 1\n",
    "\n",
    "print(result)\n",
    "\n"
   ]
  },
  {
   "cell_type": "code",
   "execution_count": null,
   "metadata": {},
   "outputs": [],
   "source": []
  }
 ],
 "metadata": {
  "kernelspec": {
   "display_name": "Python 3",
   "language": "python",
   "name": "python3"
  },
  "language_info": {
   "codemirror_mode": {
    "name": "ipython",
    "version": 3
   },
   "file_extension": ".py",
   "mimetype": "text/x-python",
   "name": "python",
   "nbconvert_exporter": "python",
   "pygments_lexer": "ipython3",
   "version": "3.8.5"
  },
  "toc": {
   "base_numbering": 1,
   "nav_menu": {},
   "number_sections": true,
   "sideBar": true,
   "skip_h1_title": false,
   "title_cell": "Table of Contents",
   "title_sidebar": "Contents",
   "toc_cell": false,
   "toc_position": {},
   "toc_section_display": true,
   "toc_window_display": false
  }
 },
 "nbformat": 4,
 "nbformat_minor": 4
}
