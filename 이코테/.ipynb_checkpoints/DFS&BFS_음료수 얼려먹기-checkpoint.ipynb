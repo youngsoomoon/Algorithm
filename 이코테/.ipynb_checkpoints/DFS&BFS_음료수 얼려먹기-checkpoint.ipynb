{
 "cells": [
  {
   "cell_type": "markdown",
   "id": "209cad43-6379-4b6a-9e55-7909e2ce5f57",
   "metadata": {},
   "source": [
    "# 아이디어\n",
    "\n",
    "맵 정보를 2차원 리스트로 입력받는다.<br>\n",
    "상,하,좌,우 위치를 호출받아 방문처리를 진행하는 dfs함수를 선언한다.<br>\n",
    "이중 for문을 통해 모든 행,열의 위치에서 dfs함수를 수행한다.<br>\n",
    "* 중요 포인트<br>\n",
    "현재 노드가 0이라면 1로 바꿔줌으로 방문처리를 하고, <br>\n",
    "상,하,좌,우 위치를 모두 재귀적으로 호출하여<br>\n",
    "더이상 주변에 방문하지 않은 노드가 없을때 결과값 1을 추가한다."
   ]
  },
  {
   "cell_type": "markdown",
   "id": "27f00806-0bac-49ca-bc18-c2f1e2f44cd6",
   "metadata": {},
   "source": [
    "## 나의 풀이"
   ]
  },
  {
   "cell_type": "code",
   "execution_count": null,
   "id": "17428955-3c9d-4322-90a2-3a1944b2dc32",
   "metadata": {},
   "outputs": [],
   "source": []
  },
  {
   "cell_type": "markdown",
   "id": "120d5d81-162a-4b84-a50f-234a00ec068b",
   "metadata": {},
   "source": [
    "## 정답"
   ]
  },
  {
   "cell_type": "code",
   "execution_count": 2,
   "id": "5809e375-b53c-45c4-aeab-9eae27ae3645",
   "metadata": {},
   "outputs": [
    {
     "name": "stdin",
     "output_type": "stream",
     "text": [
      " 4 5\n",
      " 00110\n",
      " 00011\n",
      " 11111\n",
      " 00000\n"
     ]
    },
    {
     "name": "stdout",
     "output_type": "stream",
     "text": [
      "3\n"
     ]
    }
   ],
   "source": [
    "# N, M을 공백을 기준으로 구분하여 입력 받기\n",
    "n, m = map(int, input().split())\n",
    "\n",
    "# 2차원 리스트의 맵 정보 입력 받기\n",
    "graph = []\n",
    "for i in range(n):\n",
    "    graph.append(list(map(int, input())))\n",
    "\n",
    "# DFS로 특정한 노드를 방문한 뒤에 연결된 모든 노드들도 방문\n",
    "def dfs(x, y):\n",
    "    # 주어진 범위를 벗어나는 경우에는 즉시 종료\n",
    "    if x <= -1 or x >= n or y <= -1 or y >= m:\n",
    "        return False\n",
    "    # 현재 노드를 아직 방문하지 않았다면\n",
    "    if graph[x][y] == 0:\n",
    "        # 해당 노드 방문 처리\n",
    "        graph[x][y] = 1\n",
    "        # 상, 하, 좌, 우의 위치들도 모두 재귀적으로 호출\n",
    "        dfs(x - 1, y)\n",
    "        dfs(x, y - 1)\n",
    "        dfs(x + 1, y)\n",
    "        dfs(x, y + 1)\n",
    "        return True\n",
    "    return False\n",
    "\n",
    "# 모든 노드(위치)에 대하여 음료수 채우기\n",
    "result = 0\n",
    "for i in range(n):\n",
    "    for j in range(m):\n",
    "        # 현재 위치에서 DFS 수행\n",
    "        if dfs(i, j) == True:\n",
    "            result += 1\n",
    "\n",
    "print(result) # 정답 출력"
   ]
  },
  {
   "cell_type": "code",
   "execution_count": null,
   "id": "b64d7e84-1259-4353-b30a-5df501dbca06",
   "metadata": {},
   "outputs": [],
   "source": []
  }
 ],
 "metadata": {
  "kernelspec": {
   "display_name": "Python 3",
   "language": "python",
   "name": "python3"
  },
  "language_info": {
   "codemirror_mode": {
    "name": "ipython",
    "version": 3
   },
   "file_extension": ".py",
   "mimetype": "text/x-python",
   "name": "python",
   "nbconvert_exporter": "python",
   "pygments_lexer": "ipython3",
   "version": "3.8.10"
  }
 },
 "nbformat": 4,
 "nbformat_minor": 5
}
