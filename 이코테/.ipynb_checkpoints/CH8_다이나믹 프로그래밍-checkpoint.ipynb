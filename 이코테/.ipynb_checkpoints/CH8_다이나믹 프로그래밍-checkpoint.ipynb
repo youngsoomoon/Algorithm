{
 "cells": [
  {
   "cell_type": "markdown",
   "metadata": {},
   "source": [
    "# 다이나믹 프로그래밍"
   ]
  },
  {
   "cell_type": "markdown",
   "metadata": {},
   "source": [
    "* 메모리를 적절히 사용하여 수행 시간 효율성을 비약적으로 향상시키는 방법\n",
    "* 이미 계쇤된 결과는 별도의 메모리 영역에 저장하여 다시 계산하지 않도록한다.\n",
    "* 구현 방식 일반적으로 두가지 ( 탑다운, 보텀업)으로 구성"
   ]
  },
  {
   "cell_type": "markdown",
   "metadata": {},
   "source": [
    "자료구조에서 동적할당(Dynamic Allocation)은 '프로그램이 실행되는 도중에 실행에 필요한 메모리를 할당하는 기법'을 의미한다<br>\n",
    "반면에 다이나믹 프로그래밍에서 다이나믹은 별다른 의미없이 사용된 단어"
   ]
  },
  {
   "cell_type": "markdown",
   "metadata": {},
   "source": [
    "## 메모이제이션(Memoization)"
   ]
  },
  {
   "cell_type": "markdown",
   "metadata": {},
   "source": [
    "탑다운 / 하향식 방식<br>\n",
    "한 번 계산한 결과를 메모리 공간에 메모하는 기법\n",
    " * 같은 문제를 다시 호출하면 메모했던 결과를 그대로 가져온다.\n",
    " * 값을 기록해 놓는다는 점에서 캐싱(Cashing)이라고도 한다."
   ]
  },
  {
   "cell_type": "markdown",
   "metadata": {},
   "source": [
    "## CH_8_3_개미전사"
   ]
  },
  {
   "cell_type": "markdown",
   "metadata": {},
   "source": [
    "*  아이디어<br>\n",
    "  * 메모이제이션을 위해 0으로 채워진 리스트 선언\n",
    "  * 피보나치수열의 원리로 계산한값 순차적으로 빈 리스트에 저장"
   ]
  },
  {
   "cell_type": "code",
   "execution_count": 3,
   "metadata": {},
   "outputs": [
    {
     "name": "stdin",
     "output_type": "stream",
     "text": [
      " 4\n",
      " 1 3 1 5\n"
     ]
    },
    {
     "name": "stdout",
     "output_type": "stream",
     "text": [
      "8\n"
     ]
    }
   ],
   "source": [
    "n = int(input())\n",
    "k = list(map(int,input().split()))\n",
    "\n",
    "d = [0]*100\n",
    "\n",
    "d[0] = k[0]\n",
    "d[1] = max(k[0], k[1])\n",
    "for i in range(2, n):\n",
    "    d[i] = max(d[i - 1], d[i - 2] + k[i])\n",
    "    \n",
    "print(d[n-1])\n"
   ]
  },
  {
   "cell_type": "code",
   "execution_count": null,
   "metadata": {},
   "outputs": [],
   "source": []
  }
 ],
 "metadata": {
  "kernelspec": {
   "display_name": "Python 3",
   "language": "python",
   "name": "python3"
  },
  "language_info": {
   "codemirror_mode": {
    "name": "ipython",
    "version": 3
   },
   "file_extension": ".py",
   "mimetype": "text/x-python",
   "name": "python",
   "nbconvert_exporter": "python",
   "pygments_lexer": "ipython3",
   "version": "3.8.5"
  }
 },
 "nbformat": 4,
 "nbformat_minor": 4
}
