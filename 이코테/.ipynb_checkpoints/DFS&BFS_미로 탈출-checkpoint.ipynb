{
 "cells": [
  {
   "cell_type": "markdown",
   "metadata": {},
   "source": [
    "# 풀이"
   ]
  },
  {
   "cell_type": "markdown",
   "metadata": {},
   "source": [
    "1. NxM 정보 입력받기\n",
    "2. 2차원 리스트형태로 미로정보 입력받기\n",
    "3. 상,하,좌,우 네 방향 정의하기\n",
    "4. bfs함수 정의\n",
    "        (1) 큐 선언\n",
    "        (2) 큐에 매개변수 x,y 추가\n",
    "        (3) 큐가 빌 때 까지 반복( while queue: )\n",
    "                큐에 추가된 원소 값을 삭제 및 x,y에 저장\n",
    "                현재 위치에서 네방향으로의 위치 확인\n",
    "                (NxM을 벗어난 구역 무시)\n",
    "                (벽인 경우 무시)\n",
    "                (해당 노드를 처음 방문하는 경우에만 최단 거리 기록)\n",
    "        (4) return 값은 가장 오른쪽 아래까지의 최단거리 반환\n",
    "            > return graph[n-1][m-1]\n",
    "5. BFS를 수행한 결과 출력 <br>\n",
    "\\> print(bfs(0,0))\n",
    "            "
   ]
  },
  {
   "cell_type": "code",
   "execution_count": 6,
   "metadata": {},
   "outputs": [
    {
     "name": "stdout",
     "output_type": "stream",
     "text": [
      "1233 1233\n"
     ]
    }
   ],
   "source": [
    "from collections import deque\n",
    "\n",
    "# n행m열 정보 입력받기\n",
    "n, m = map(int,input().split())\n",
    "# 미로 정보 입력받기\n",
    "graph = []\n",
    "for i in range(n) :\n",
    "    graph.append(list(map(int,input())))\n",
    "\n",
    "dx = [-1,1,0,0]\n",
    "dy = [0,0,-1,1]\n",
    "\n",
    "# BFS 함수 정의\n",
    "def bfs(x, y) : \n",
    "    queue = deque()\n",
    "    queue.append((x,y))\n",
    "    while queue :\n",
    "        x, y = queue.popleft()\n",
    "        for i in range(4) :\n",
    "            nx = x + dx[i]\n",
    "            ny = y + dy[i]\n",
    "            if nx < 0 or ny < 0 or nx >= n or ny >= m :\n",
    "                continue\n",
    "            if graph[nx][ny] == 0:\n",
    "                continue\n",
    "            if graph[nx][ny] == 1:\n",
    "                graph[nx][ny] = graph[x][y] + 1\n",
    "                queue.append((nx,ny))\n",
    "    return graph[n - 1][m - 1]\n",
    "    \n",
    "print(bfs(0,0))\n"
   ]
  },
  {
   "cell_type": "markdown",
   "metadata": {},
   "source": [
    "# 정답"
   ]
  },
  {
   "cell_type": "code",
   "execution_count": null,
   "metadata": {},
   "outputs": [],
   "source": [
    "from collections import deque\n",
    "\n",
    "# N, M을 공백을 기준으로 구분하여 입력 받기\n",
    "n, m = map(int, input().split())\n",
    "# 2차원 리스트의 맵 정보 입력 받기\n",
    "graph = []\n",
    "for i in range(n):\n",
    "    graph.append(list(map(int, input())))\n",
    "\n",
    "# 이동할 네 가지 방향 정의 (상, 하, 좌, 우)\n",
    "dx = [-1, 1, 0, 0]\n",
    "dy = [0, 0, -1, 1]\n",
    "\n",
    "# BFS 소스코드 구현\n",
    "def bfs(x, y):\n",
    "    # 큐(Queue) 구현을 위해 deque 라이브러리 사용\n",
    "    queue = deque()\n",
    "    queue.append((x, y))\n",
    "    # 큐가 빌 때까지 반복하기\n",
    "    while queue:\n",
    "        x, y = queue.popleft()\n",
    "        # 현재 위치에서 4가지 방향으로의 위치 확인\n",
    "        for i in range(4):\n",
    "            nx = x + dx[i]\n",
    "            ny = y + dy[i]\n",
    "            # 미로 찾기 공간을 벗어난 경우 무시\n",
    "            if nx < 0 or nx >= n or ny < 0 or ny >= m:\n",
    "                continue\n",
    "            # 벽인 경우 무시\n",
    "            if graph[nx][ny] == 0:\n",
    "                continue\n",
    "            # 해당 노드를 처음 방문하는 경우에만 최단 거리 기록\n",
    "            if graph[nx][ny] == 1:\n",
    "                graph[nx][ny] = graph[x][y] + 1\n",
    "                queue.append((nx, ny))\n",
    "    # 가장 오른쪽 아래까지의 최단 거리 반환\n",
    "    return graph[n - 1][m - 1]\n",
    "\n",
    "# BFS를 수행한 결과 출력\n",
    "print(bfs(0, 0))"
   ]
  }
 ],
 "metadata": {
  "kernelspec": {
   "display_name": "Python 3",
   "language": "python",
   "name": "python3"
  },
  "language_info": {
   "codemirror_mode": {
    "name": "ipython",
    "version": 3
   },
   "file_extension": ".py",
   "mimetype": "text/x-python",
   "name": "python",
   "nbconvert_exporter": "python",
   "pygments_lexer": "ipython3",
   "version": "3.7.3"
  }
 },
 "nbformat": 4,
 "nbformat_minor": 4
}
