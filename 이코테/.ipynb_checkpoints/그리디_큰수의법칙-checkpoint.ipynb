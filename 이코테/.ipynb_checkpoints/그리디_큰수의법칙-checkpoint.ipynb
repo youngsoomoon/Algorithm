{
 "cells": [
  {
   "cell_type": "markdown",
   "metadata": {},
   "source": [
    "내 풀이"
   ]
  },
  {
   "cell_type": "code",
   "execution_count": 1,
   "metadata": {},
   "outputs": [
    {
     "name": "stdout",
     "output_type": "stream",
     "text": [
      "5 8 3\n",
      "2 4 5 4 6\n",
      "46\n"
     ]
    }
   ],
   "source": [
    "N, M, K = map(int, input().split())\n",
    "array = list(map(int, input().split()))\n",
    "\n",
    "array.sort()\n",
    "a = array[N-1]\n",
    "b = array[N-2]\n",
    "result = 0\n",
    "\n",
    "while True:\n",
    "  for i in range(K):\n",
    "    if M == 0 :\n",
    "      break\n",
    "    else :\n",
    "      result += a\n",
    "      M -= 1\n",
    "  if M == 0:\n",
    "    break\n",
    "  result += b\n",
    "  M -= 1\n",
    "print(result)"
   ]
  },
  {
   "cell_type": "markdown",
   "metadata": {},
   "source": [
    "정답"
   ]
  },
  {
   "cell_type": "code",
   "execution_count": 5,
   "metadata": {},
   "outputs": [
    {
     "name": "stdout",
     "output_type": "stream",
     "text": [
      "5 8 3\n",
      "2 4 5 4 6\n",
      "46\n"
     ]
    }
   ],
   "source": [
    "N , M, K = map(int, input().split())\n",
    "data = list(map(int, input().split()))\n",
    "            \n",
    "data.sort()\n",
    "first = data[N-1]\n",
    "second = data[N-2]\n",
    "result = 0\n",
    "\n",
    "\n",
    "while True :\n",
    "    for i in range(K) :\n",
    "        if M == 0 :\n",
    "            break\n",
    "        result += first\n",
    "        M -= 1 \n",
    "    if M == 0 :\n",
    "        break\n",
    "    result += second\n",
    "    M -= 1\n",
    "print(result)\n",
    "        \n",
    "    \n",
    "    "
   ]
  }
 ],
 "metadata": {
  "kernelspec": {
   "display_name": "Python 3",
   "language": "python",
   "name": "python3"
  },
  "language_info": {
   "codemirror_mode": {
    "name": "ipython",
    "version": 3
   },
   "file_extension": ".py",
   "mimetype": "text/x-python",
   "name": "python",
   "nbconvert_exporter": "python",
   "pygments_lexer": "ipython3",
   "version": "3.7.3"
  }
 },
 "nbformat": 4,
 "nbformat_minor": 2
}
