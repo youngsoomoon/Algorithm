{
 "cells": [
  {
   "cell_type": "code",
   "execution_count": null,
   "id": "af8b798e-97da-4648-97a8-fe5d63e839b4",
   "metadata": {},
   "outputs": [],
   "source": [
    "# H를 입력받기\n",
    "h = int(input())\n",
    "\n",
    "count = 0\n",
    "for i in range(h + 1):\n",
    "    for j in range(60):\n",
    "        for k in range(60):\n",
    "            # 매 시각 안에 '3'이 포함되어 있다면 카운트 증가\n",
    "            if '3' in str(i) + str(j) + str(k):\n",
    "                count += 1\n",
    "\n",
    "print(count)"
   ]
  }
 ],
 "metadata": {
  "kernelspec": {
   "display_name": "Python 3",
   "language": "python",
   "name": "python3"
  },
  "language_info": {
   "codemirror_mode": {
    "name": "ipython",
    "version": 3
   },
   "file_extension": ".py",
   "mimetype": "text/x-python",
   "name": "python",
   "nbconvert_exporter": "python",
   "pygments_lexer": "ipython3",
   "version": "3.8.10"
  }
 },
 "nbformat": 4,
 "nbformat_minor": 5
}
