{
 "cells": [
  {
   "cell_type": "code",
   "execution_count": 12,
   "metadata": {},
   "outputs": [
    {
     "name": "stdout",
     "output_type": "stream",
     "text": [
      "[2, 1, 2] 0\n",
      "[2, 0, 2] 1\n",
      "[1, 0, 2] 2\n",
      "[0, 0, 2] 3\n",
      "[0, 0, 2] 4\n",
      "[0, 0, 0] 5\n",
      "3\n"
     ]
    }
   ],
   "source": [
    "food_times = [3,1,2]\n",
    "k = 5\n",
    "\n",
    "count = 0\n",
    "\n",
    "while sum(food_times) != 0 :\n",
    "    for i in food_times :\n",
    "        if (i != 0) & ( k == count):\n",
    "            result = food_times.index(i) + 1\n",
    "            food_times = [0,0,0]\n",
    "            print(food_times , count)\n",
    "        elif (i != 0) & ( k != count) :\n",
    "            food_times[food_times.index(i)] -= 1\n",
    "            print(food_times , count)\n",
    "        elif (i == 0) :\n",
    "            print(food_times , count)\n",
    "            pass\n",
    "        count += 1\n",
    "\n",
    "print(result)\n",
    "    "
   ]
  },
  {
   "cell_type": "code",
   "execution_count": 21,
   "metadata": {},
   "outputs": [
    {
     "data": {
      "text/plain": [
       "1"
      ]
     },
     "execution_count": 21,
     "metadata": {},
     "output_type": "execute_result"
    }
   ],
   "source": [
    "import heapq\n",
    "\n",
    "def solution(food_times, k) :\n",
    "    if sum(food_times) <= k :\n",
    "        return -1\n",
    "    \n",
    "    q = []\n",
    "    for i in range(len(food_times)):\n",
    "        heapq.heappush(q, (food_times[i], i + 1))\n",
    "        \n",
    "    sum_value = 0\n",
    "    previous = 0\n",
    "    length = len(food_times)\n",
    "    \n",
    "    while sum_value + ((q[0][0] - previous) * length) <= k:\n",
    "        now = heapq.heappop(q)[0]\n",
    "        sum_value += (now - previous) * length\n",
    "        length -= 1\n",
    "        previous = now\n",
    "        \n",
    "    #남은 음식 중에서 몇 번째 음식인지 확인하여 출력    \n",
    "    result = sorted(q, key=lambda x : x[1])\n",
    "    return result[(k - sum_value) % length][1]\n",
    "\n",
    "food_times = [3,1,2]\n",
    "k = 5\n",
    "solution(food_times, k)"
   ]
  },
  {
   "cell_type": "code",
   "execution_count": null,
   "metadata": {},
   "outputs": [],
   "source": []
  }
 ],
 "metadata": {
  "kernelspec": {
   "display_name": "Python 3",
   "language": "python",
   "name": "python3"
  },
  "language_info": {
   "codemirror_mode": {
    "name": "ipython",
    "version": 3
   },
   "file_extension": ".py",
   "mimetype": "text/x-python",
   "name": "python",
   "nbconvert_exporter": "python",
   "pygments_lexer": "ipython3",
   "version": "3.8.5"
  }
 },
 "nbformat": 4,
 "nbformat_minor": 4
}
