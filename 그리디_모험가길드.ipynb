{
  "nbformat": 4,
  "nbformat_minor": 0,
  "metadata": {
    "kernelspec": {
      "display_name": "Python 3",
      "language": "python",
      "name": "python3"
    },
    "language_info": {
      "codemirror_mode": {
        "name": "ipython",
        "version": 3
      },
      "file_extension": ".py",
      "mimetype": "text/x-python",
      "name": "python",
      "nbconvert_exporter": "python",
      "pygments_lexer": "ipython3",
      "version": "3.8.5"
    },
    "colab": {
      "name": "그리디_모험가길드.ipynb",
      "provenance": [],
      "collapsed_sections": [],
      "include_colab_link": true
    }
  },
  "cells": [
    {
      "cell_type": "markdown",
      "metadata": {
        "id": "view-in-github",
        "colab_type": "text"
      },
      "source": [
        "<a href=\"https://colab.research.google.com/github/youngsoomoon/Algorithm/blob/main/%EA%B7%B8%EB%A6%AC%EB%94%94_%EB%AA%A8%ED%97%98%EA%B0%80%EA%B8%B8%EB%93%9C.ipynb\" target=\"_parent\"><img src=\"https://colab.research.google.com/assets/colab-badge.svg\" alt=\"Open In Colab\"/></a>"
      ]
    },
    {
      "cell_type": "markdown",
      "metadata": {
        "id": "Fei2UHwybxPC"
      },
      "source": [
        "* **아이디어**\n",
        "\n",
        "  공포도를 오름차순으로 정렬하여 낮은 사람의 그룹부터 차례로 만들어나간다<br>\n",
        "  count를 0으로 초기화 해놓고, 자기 자신이 그룹에 들어가게 되면 1씩 증가 <br>\n",
        "  count가 공포도보다 크거나 같아진 시점이 오면 그룹카운트가 1 증가하고 count0으로 초기화"
      ]
    },
    {
      "cell_type": "code",
      "metadata": {
        "id": "56BFUDGEbxPE",
        "outputId": "186e193e-b115-4e27-e360-da080efe0fe1"
      },
      "source": [
        "n = int(input())\n",
        "array = list(map(int,input().split()))\n",
        "\n",
        "array.sort()\n",
        "\n",
        "count = 0\n",
        "result = 0\n",
        "for data in array:\n",
        "    count += 1\n",
        "    if count >= data :\n",
        "        result += 1\n",
        "        count = 0\n",
        "print(result)"
      ],
      "execution_count": null,
      "outputs": [
        {
          "output_type": "stream",
          "text": [
            " 5\n",
            " 2 3 1 2 2\n"
          ],
          "name": "stdin"
        },
        {
          "output_type": "stream",
          "text": [
            "2\n"
          ],
          "name": "stdout"
        }
      ]
    },
    {
      "cell_type": "markdown",
      "metadata": {
        "id": "WTAWYmW2bxPG"
      },
      "source": [
        "---------------------"
      ]
    },
    {
      "cell_type": "markdown",
      "metadata": {
        "id": "byHYwsnybxPG"
      },
      "source": [
        "**정답**"
      ]
    },
    {
      "cell_type": "code",
      "metadata": {
        "id": "pPXMnvwzbxPH",
        "outputId": "58b4dea7-3dcf-4cce-cb72-674f665c9fe2"
      },
      "source": [
        "n = int(input())\n",
        "data = list(map(int, input().split()))\n",
        "data.sort()\n",
        "\n",
        "result = 0 # 총 그룹의 수\n",
        "count = 0 # 현재 그룹에 포함된 모험가의 수\n",
        "\n",
        "for i in data: # 공포도를 낮은 것부터 하나씩 확인하며\n",
        "    count += 1 # 현재 그룹에 해당 모험가를 포함시키기\n",
        "    if count >= i: # 현재 그룹에 포함된 모험가의 수가 현재의 공포도 이상이라면, 그룹 결성\n",
        "        result += 1 # 총 그룹의 수 증가시키기\n",
        "        count = 0 # 현재 그룹에 포함된 모험가의 수 초기화\n",
        "\n",
        "print(result) # 총 그룹의 수 출력"
      ],
      "execution_count": null,
      "outputs": [
        {
          "output_type": "stream",
          "text": [
            " 5\n",
            " 2 3 1 2 2\n"
          ],
          "name": "stdin"
        },
        {
          "output_type": "stream",
          "text": [
            "2\n"
          ],
          "name": "stdout"
        }
      ]
    },
    {
      "cell_type": "markdown",
      "metadata": {
        "id": "YLPiZdXLbxPH"
      },
      "source": [
        "-------------------\n",
        "2회차 풀이 ( 정답 확인 후 풀이완료 )"
      ]
    },
    {
      "cell_type": "code",
      "metadata": {
        "id": "2nATf6WWbxPI",
        "outputId": "36ee7a2b-4617-4b3b-e7d9-1dd6bb2aef9e"
      },
      "source": [
        "n = int(input())\n",
        "data = list(map(int,input().split()))\n",
        "\n",
        "result = 0\n",
        "count = 0\n",
        "\n",
        "data.sort()\n",
        "for i in data:\n",
        "    count += 1\n",
        "    if count >= i :\n",
        "        result += 1\n",
        "        count = 0\n",
        "        \n",
        "print(result)"
      ],
      "execution_count": null,
      "outputs": [
        {
          "output_type": "stream",
          "text": [
            " 5\n",
            " 2 3 1 1 2\n"
          ],
          "name": "stdin"
        },
        {
          "output_type": "stream",
          "text": [
            "3\n"
          ],
          "name": "stdout"
        }
      ]
    },
    {
      "cell_type": "markdown",
      "metadata": {
        "id": "xNd4XEP2f2R-"
      },
      "source": [
        "-------------------------\n",
        "3회차 풀이 ( 정답 확인 후 풀이완료 )"
      ]
    },
    {
      "cell_type": "code",
      "metadata": {
        "colab": {
          "base_uri": "https://localhost:8080/"
        },
        "id": "haMHgRjlf5OV",
        "outputId": "dde061f8-3ba3-4334-8dec-23b4bb839f50"
      },
      "source": [
        "n = int(input())\n",
        "data = list(map(int,input().split()))\n",
        "\n",
        "result = 0\n",
        "count = 0\n",
        "\n",
        "data.sort()\n",
        "for i in data:\n",
        "  count += 1\n",
        "  if count >= i:\n",
        "    result += 1\n",
        "    count = 0\n",
        "\n",
        "print(result)\n"
      ],
      "execution_count": 4,
      "outputs": [
        {
          "output_type": "stream",
          "text": [
            "5\n",
            "2 3 1 2 2\n",
            "2\n"
          ],
          "name": "stdout"
        }
      ]
    },
    {
      "cell_type": "code",
      "metadata": {
        "id": "opOfKhsijO2Z"
      },
      "source": [
        ""
      ],
      "execution_count": 4,
      "outputs": []
    },
    {
      "cell_type": "code",
      "metadata": {
        "id": "CVS-95-4i0j3"
      },
      "source": [
        ""
      ],
      "execution_count": null,
      "outputs": []
    }
  ]
}